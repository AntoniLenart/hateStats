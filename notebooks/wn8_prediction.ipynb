{
 "cells": [
  {
   "cell_type": "code",
   "execution_count": null,
   "id": "600badcc-c01f-4bd2-a83a-bd8a0823064e",
   "metadata": {},
   "outputs": [],
   "source": [
    "import pandas as pd\n",
    "import json\n",
    "import pickle"
   ]
  },
  {
   "cell_type": "code",
   "execution_count": null,
   "id": "8c4a4770-af54-48f5-85b3-c1b356b02bf6",
   "metadata": {},
   "outputs": [],
   "source": [
    "statsPath = './src/main/resources/statistics.json'\n",
    "modelPath = './src/main/resources/model.pkl'\n",
    "wn8FilePath = './src/main/resources/wn8.txt'"
   ]
  },
  {
   "cell_type": "code",
   "execution_count": null,
   "id": "80ba6fb9-f783-4938-847f-de9e86604d72",
   "metadata": {},
   "outputs": [],
   "source": [
    "try:\n",
    "    with open(statsPath, 'r') as statsFile:\n",
    "        userStatsString = statsFile.read()\n",
    "    userStatsDict = json.loads(userStatsString)\n",
    "except FileNotFoundError as fnfError:\n",
    "    print(fnfError)"
   ]
  },
  {
   "cell_type": "code",
   "execution_count": null,
   "id": "9b2b1fdb-780c-4193-87f5-31aa3cb61b6f",
   "metadata": {},
   "outputs": [],
   "source": [
    "statsSeries = pd.DataFrame.from_dict(data=userStatsDict, orient='index')"
   ]
  },
  {
   "cell_type": "code",
   "execution_count": null,
   "id": "985055f8-cdd9-48ce-a78a-f4049cdca832",
   "metadata": {},
   "outputs": [],
   "source": [
    "statsSeries = statsSeries.T"
   ]
  },
  {
   "cell_type": "code",
   "execution_count": null,
   "id": "d37616ae-6be8-4fa1-8535-935fdb76645c",
   "metadata": {},
   "outputs": [],
   "source": [
    "def addFeatures(df):\n",
    "    df['win_ratio'] = df['wins']/df['battles']\n",
    "    df['lose_ratio'] = df['losses']/df['battles']\n",
    "    df['accuracy'] = df['hits']/df['shots']\n",
    "    df['efficiency'] = df['piercings']/df['hits']\n",
    "    df['frags_per_battle'] = df['frags']/df['battles']\n",
    "    df['cap_points_per_battle'] = df['capture_points']/df['battles']\n",
    "    df['damage_dealt_per_battle'] = df['damage_dealt']/df['battles']\n",
    "    df['survival_rate'] = df['survived_battles']/df['battles']\n",
    "    df['spots_per_battle'] = df['spotted']/df['battles']\n",
    "    \n",
    "    return df\n",
    "\n",
    "statsSeries = addFeatures(statsSeries)"
   ]
  },
  {
   "cell_type": "code",
   "execution_count": null,
   "id": "5e0cca21-f2cc-4b11-b595-18bee392789b",
   "metadata": {},
   "outputs": [],
   "source": [
    "def dropIrrelevantCols(df, cols):\n",
    "    return df.drop(columns=cols)\n",
    "statsSeries = dropIrrelevantCols(statsSeries, ['battles_on_stunning_vehicles', 'hits', 'draws', 'wins', 'losses', 'capture_points', 'piercings', 'shots', 'max_frags', 'max_damage', 'max_xp', 'spotted', 'damage_dealt', 'damage_received'])"
   ]
  },
  {
   "cell_type": "code",
   "execution_count": null,
   "id": "239ce786-9da9-4ac2-8a78-fca9d5869f46",
   "metadata": {},
   "outputs": [],
   "source": [
    "def convertColsToFloat(df, cols):\n",
    "    for column in cols:\n",
    "        try:\n",
    "            df[column] = df[column].astype(float)\n",
    "        except:\n",
    "            df[column] = df[column].str.replace(',', '.')\n",
    "            df[column] = df[column].astype(float)\n",
    "            \n",
    "    return df\n",
    "statsSeries = convertColsToFloat(statsSeries, list(statsSeries.columns))"
   ]
  },
  {
   "cell_type": "code",
   "execution_count": null,
   "id": "7f5af5aa-0377-47ca-a091-f51c112dc92d",
   "metadata": {},
   "outputs": [],
   "source": [
    "try:\n",
    "    with open(modelPath, 'rb') as modelFile:\n",
    "        model = pickle.load(modelFile)\n",
    "except FileNotFoundError as fnfError:\n",
    "    print(fnfError)"
   ]
  },
  {
   "cell_type": "code",
   "execution_count": null,
   "id": "b7225b24-851f-475d-b58c-da7e28f18f42",
   "metadata": {},
   "outputs": [],
   "source": [
    "wn8_pred = model.predict(statsSeries)\n",
    "try:\n",
    "    with open(wn8FilePath, 'w') as wn8File:\n",
    "        wn8File.write(str(round(wn8_pred[0], 2)))\n",
    "except FileNotFoundError as fnfError:\n",
    "    print(fnfError)"
   ]
  }
 ],
 "metadata": {
  "kernelspec": {
   "display_name": "Python 3 (ipykernel)",
   "language": "python",
   "name": "python3"
  },
  "language_info": {
   "codemirror_mode": {
    "name": "ipython",
    "version": 3
   },
   "file_extension": ".py",
   "mimetype": "text/x-python",
   "name": "python",
   "nbconvert_exporter": "python",
   "pygments_lexer": "ipython3",
   "version": "3.11.5"
  }
 },
 "nbformat": 4,
 "nbformat_minor": 5
}
