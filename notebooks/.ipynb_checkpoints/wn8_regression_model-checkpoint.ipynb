{
 "cells": [
  {
   "cell_type": "code",
   "execution_count": 61,
   "id": "ee9226db",
   "metadata": {},
   "outputs": [],
   "source": [
    "import pandas as pd\n",
    "import numpy as np\n",
    "import matplotlib.pyplot as plt\n",
    "import seaborn as sns"
   ]
  },
  {
   "cell_type": "code",
   "execution_count": 62,
   "id": "227a8bf6",
   "metadata": {},
   "outputs": [],
   "source": [
    "try:\n",
    "    df = pd.read_csv('../data/complete_user_data.csv', index_col=0)\n",
    "except FileNotFoundError as fnfError:\n",
    "    print(fnfError)"
   ]
  },
  {
   "cell_type": "code",
   "execution_count": 63,
   "id": "9e02a4b4",
   "metadata": {},
   "outputs": [
    {
     "data": {
      "text/plain": [
       "Index(['spotted', 'battles_on_stunning_vehicles', 'hits', 'battle_avg_xp',\n",
       "       'draws', 'max_xp', 'survived_battles', 'wins', 'losses',\n",
       "       'capture_points', 'battles', 'damage_dealt', 'damage_received',\n",
       "       'max_frags', 'shots', 'frags', 'max_damage', 'xp',\n",
       "       'avg_damage_assisted', 'piercings', 'user_id', 'nickname', 'wn8',\n",
       "       'win_ratio', 'lose_ratio', 'accuracy', 'efficiency', 'frags_per_battle',\n",
       "       'cap_points_per_battle', 'damage_dealt_per_battle', 'survival_rate',\n",
       "       'spots_per_battle'],\n",
       "      dtype='object')"
      ]
     },
     "execution_count": 63,
     "metadata": {},
     "output_type": "execute_result"
    }
   ],
   "source": [
    "def addFeatures(df):\n",
    "    df['win_ratio'] = df['wins']/df['battles']\n",
    "    df['lose_ratio'] = df['losses']/df['battles']\n",
    "    df['accuracy'] = df['hits']/df['shots']\n",
    "    df['efficiency'] = df['piercings']/df['hits']\n",
    "    df['frags_per_battle'] = df['frags']/df['battles']\n",
    "    df['cap_points_per_battle'] = df['capture_points']/df['battles']\n",
    "    df['damage_dealt_per_battle'] = df['damage_dealt']/df['battles']\n",
    "    df['survival_rate'] = df['survived_battles']/df['battles']\n",
    "    df['spots_per_battle'] = df['spotted']/df['battles']\n",
    "    \n",
    "    return df\n",
    "\n",
    "df = addFeatures(df)\n",
    "df.columns"
   ]
  },
  {
   "cell_type": "code",
   "execution_count": 64,
   "id": "55150a25",
   "metadata": {},
   "outputs": [],
   "source": [
    "from sklearn.model_selection import train_test_split\n",
    "df_train, df_test = train_test_split(df, test_size=0.2)"
   ]
  },
  {
   "cell_type": "code",
   "execution_count": 65,
   "id": "435dd731",
   "metadata": {},
   "outputs": [],
   "source": [
    "def dropIrrelevantCols(df, cols):\n",
    "    return df.drop(columns=cols)\n",
    "df_train = dropIrrelevantCols(df_train, ['user_id', 'nickname', 'battles_on_stunning_vehicles', 'hits', 'draws', 'wins', 'losses', 'capture_points', 'piercings', 'shots', 'max_frags', 'max_damage', 'max_xp', 'spotted', 'damage_dealt', 'damage_received'])\n",
    "df_test = dropIrrelevantCols(df_test, ['user_id', 'nickname', 'battles_on_stunning_vehicles', 'hits', 'draws', 'wins', 'losses', 'capture_points', 'piercings', 'shots', 'max_frags', 'max_xp', 'max_damage', 'spotted', 'damage_dealt', 'damage_received'])"
   ]
  },
  {
   "cell_type": "code",
   "execution_count": 66,
   "id": "a5e6ff5e",
   "metadata": {},
   "outputs": [],
   "source": [
    "def convertColsToFloat(df, cols):\n",
    "    for column in cols:\n",
    "        try:\n",
    "            df[column] = df[column].astype(float)\n",
    "        except:\n",
    "            df[column] = df[column].str.replace(',', '.')\n",
    "            df[column] = df[column].astype(float)\n",
    "            \n",
    "    return df\n",
    "df_train = convertColsToFloat(df_train, list(df_train.columns))\n",
    "df_test = convertColsToFloat(df_test, list(df_test.columns))"
   ]
  },
  {
   "cell_type": "code",
   "execution_count": 67,
   "id": "2474a52e",
   "metadata": {},
   "outputs": [],
   "source": [
    "from sklearn.pipeline import make_pipeline\n",
    "from sklearn.impute import SimpleImputer\n",
    "from sklearn.preprocessing import StandardScaler, Normalizer\n",
    "from sklearn.compose import make_column_transformer\n",
    "\n",
    "X_train, y_train = df_train.drop(columns=['wn8']), df_train['wn8']\n",
    "X_test, y_test = df_test.drop(columns=['wn8']), df_test['wn8']\n",
    "numericalAttribs = X_train.select_dtypes(np.number)\n",
    "numericalAttribsNames = list(numericalAttribs.columns)\n",
    "numericalPipeline = make_pipeline(SimpleImputer(strategy='median'),\n",
    "                                  StandardScaler())\n",
    "\n",
    "preprocessing = make_column_transformer((numericalPipeline, numericalAttribsNames))"
   ]
  },
  {
   "cell_type": "code",
   "execution_count": 68,
   "id": "8d82aab7",
   "metadata": {},
   "outputs": [
    {
     "data": {
      "text/plain": [
       "Index(['battle_avg_xp', 'survived_battles', 'battles', 'frags', 'xp',\n",
       "       'avg_damage_assisted', 'wn8', 'win_ratio', 'lose_ratio', 'accuracy',\n",
       "       'efficiency', 'frags_per_battle', 'cap_points_per_battle',\n",
       "       'damage_dealt_per_battle', 'survival_rate', 'spots_per_battle'],\n",
       "      dtype='object')"
      ]
     },
     "execution_count": 68,
     "metadata": {},
     "output_type": "execute_result"
    }
   ],
   "source": [
    "df_train.columns"
   ]
  },
  {
   "cell_type": "code",
   "execution_count": 69,
   "id": "8d3fb520",
   "metadata": {},
   "outputs": [
    {
     "data": {
      "text/plain": [
       "['battle_avg_xp',\n",
       " 'survived_battles',\n",
       " 'battles',\n",
       " 'frags',\n",
       " 'xp',\n",
       " 'avg_damage_assisted',\n",
       " 'win_ratio',\n",
       " 'lose_ratio',\n",
       " 'accuracy',\n",
       " 'efficiency',\n",
       " 'frags_per_battle',\n",
       " 'cap_points_per_battle',\n",
       " 'damage_dealt_per_battle',\n",
       " 'survival_rate',\n",
       " 'spots_per_battle']"
      ]
     },
     "execution_count": 69,
     "metadata": {},
     "output_type": "execute_result"
    }
   ],
   "source": [
    "numericalAttribsNames"
   ]
  },
  {
   "cell_type": "code",
   "execution_count": 70,
   "id": "1c8f4e7d",
   "metadata": {},
   "outputs": [],
   "source": [
    "from sklearn.metrics import mean_absolute_error, max_error\n",
    "from sklearn.model_selection import cross_val_score\n",
    "from sklearn.linear_model import Lasso, ElasticNet, Ridge, LinearRegression\n",
    "from sklearn.ensemble import RandomForestRegressor\n",
    "from sklearn.svm import SVR\n",
    "\n",
    "def trainAndScore(models, X_train, X_test, y_train, y_test):\n",
    "    modelsScore = {}\n",
    "    for name, model in models.items():\n",
    "        metricsScore = {}\n",
    "        model.fit(X_train, y_train)\n",
    "        \n",
    "        meanAbsErr = abs(cross_val_score(model, X_test, y_test, scoring='neg_mean_absolute_error', cv=30)).mean()\n",
    "        maxErr = abs(cross_val_score(model, X_test, y_test, scoring='max_error', cv=30)).mean()\n",
    "        metricsScore.update({'Mean Absolute Error':meanAbsErr})\n",
    "        metricsScore.update({'Max Error':maxErr})\n",
    "        \n",
    "        modelsScore.update({name:metricsScore})\n",
    "    \n",
    "    return modelsScore\n",
    "\n",
    "def applyPreprocessing(model, preprocessing):\n",
    "    modelWithPreprocessing = make_pipeline(preprocessing,\n",
    "                                           model)\n",
    "    return modelWithPreprocessing\n",
    "\n",
    "candidateModels = {'Lasso':applyPreprocessing(Lasso(), preprocessing),\n",
    "                   'Liner Regression':applyPreprocessing(LinearRegression(), preprocessing),\n",
    "                   'Elastic Net':applyPreprocessing(ElasticNet(), preprocessing),\n",
    "                   'Random Forest':applyPreprocessing(RandomForestRegressor(), preprocessing),\n",
    "                   'Ridge':applyPreprocessing(Ridge(), preprocessing),\n",
    "                   'SVR (Linear)':applyPreprocessing(SVR(kernel='linear'), preprocessing),\n",
    "                   'SVR (rbf)':applyPreprocessing(SVR(kernel='rbf'), preprocessing)}\n",
    "\n",
    "scores = trainAndScore(candidateModels, X_train, X_test, y_train, y_test)"
   ]
  },
  {
   "cell_type": "code",
   "execution_count": 71,
   "id": "4dc420e2",
   "metadata": {},
   "outputs": [
    {
     "data": {
      "text/plain": [
       "{'Lasso': {'Mean Absolute Error': 60.97934781798683,\n",
       "  'Max Error': 182.90182349057434},\n",
       " 'Liner Regression': {'Mean Absolute Error': 62.58050308145586,\n",
       "  'Max Error': 193.1744171754146},\n",
       " 'Elastic Net': {'Mean Absolute Error': 90.38558025079,\n",
       "  'Max Error': 258.35142546035974},\n",
       " 'Random Forest': {'Mean Absolute Error': 76.48059181481487,\n",
       "  'Max Error': 233.59364666666684},\n",
       " 'Ridge': {'Mean Absolute Error': 61.99712098973652,\n",
       "  'Max Error': 190.06967722448292},\n",
       " 'SVR (Linear)': {'Mean Absolute Error': 96.36069659274592,\n",
       "  'Max Error': 277.2355699590953},\n",
       " 'SVR (rbf)': {'Mean Absolute Error': 417.21717774103416,\n",
       "  'Max Error': 1048.1515139928833}}"
      ]
     },
     "execution_count": 71,
     "metadata": {},
     "output_type": "execute_result"
    }
   ],
   "source": [
    "scores"
   ]
  },
  {
   "cell_type": "code",
   "execution_count": 72,
   "id": "c030c5f3",
   "metadata": {},
   "outputs": [
    {
     "data": {
      "text/plain": [
       "Index(['battle_avg_xp', 'survived_battles', 'battles', 'frags', 'xp',\n",
       "       'avg_damage_assisted', 'wn8', 'win_ratio', 'lose_ratio', 'accuracy',\n",
       "       'efficiency', 'frags_per_battle', 'cap_points_per_battle',\n",
       "       'damage_dealt_per_battle', 'survival_rate', 'spots_per_battle'],\n",
       "      dtype='object')"
      ]
     },
     "execution_count": 72,
     "metadata": {},
     "output_type": "execute_result"
    }
   ],
   "source": [
    "df_train.columns"
   ]
  }
 ],
 "metadata": {
  "kernelspec": {
   "display_name": "Python 3 (ipykernel)",
   "language": "python",
   "name": "python3"
  },
  "language_info": {
   "codemirror_mode": {
    "name": "ipython",
    "version": 3
   },
   "file_extension": ".py",
   "mimetype": "text/x-python",
   "name": "python",
   "nbconvert_exporter": "python",
   "pygments_lexer": "ipython3",
   "version": "3.10.13"
  }
 },
 "nbformat": 4,
 "nbformat_minor": 5
}
